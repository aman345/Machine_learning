{
 "cells": [
  {
   "cell_type": "code",
   "execution_count": 2,
   "metadata": {},
   "outputs": [],
   "source": [
    "import pandas as pd\n",
    "import numpy as np\n",
    "import matplotlib.pyplot as plt"
   ]
  },
  {
   "cell_type": "code",
   "execution_count": 5,
   "metadata": {},
   "outputs": [
    {
     "name": "stdout",
     "output_type": "stream",
     "text": [
      "[[0.1  0.6 ]\n",
      " [0.15 0.71]\n",
      " [0.08 0.9 ]\n",
      " [0.16 0.85]\n",
      " [0.2  0.3 ]\n",
      " [0.25 0.5 ]\n",
      " [0.24 0.1 ]\n",
      " [0.3  0.2 ]]\n"
     ]
    }
   ],
   "source": [
    "df = pd.DataFrame({'X':[0.1,0.15,0.08,0.16,0.2,0.25,0.24,0.3],'y':[0.6,0.71,0.9,0.85,0.3,0.5,0.1,0.2]})\n",
    "\n",
    "f1 = df['X'].values\n",
    "f2 = df['y'].values\n",
    "\n",
    "X = np.array(list(zip(f1,f2)))\n",
    "print(X)\n"
   ]
  },
  {
   "cell_type": "code",
   "execution_count": 6,
   "metadata": {},
   "outputs": [],
   "source": [
    "#centroid points\n",
    "\n",
    "C_x = np.array([0.1,0.3])\n",
    "C_y = np.array([0.6,0.2])\n",
    "\n",
    "centroids = C_x,C_y"
   ]
  },
  {
   "cell_type": "code",
   "execution_count": 7,
   "metadata": {},
   "outputs": [
    {
     "data": {
      "image/png": "[encoded data removed]",
      "text/plain": [
       "<Figure size 432x288 with 1 Axes>"
      ]
     },
     "metadata": {
      "needs_background": "light"
     },
     "output_type": "display_data"
    }
   ],
   "source": [
    "mapcol ={1:'r',2:'b'}\n",
    "plt.scatter(f1,f2,color='k')\n",
    "plt.show()"
   ]
  },
  {
   "cell_type": "code",
   "execution_count": 8,
   "metadata": {},
   "outputs": [
    {
     "data": {
      "image/png": "[encoded data removed]",
      "text/plain": [
       "<Figure size 432x288 with 1 Axes>"
      ]
     },
     "metadata": {
      "needs_background": "light"
     },
     "output_type": "display_data"
    }
   ],
   "source": [
    "plt.scatter(C_x[0],C_y[0],color = mapcol[1])\n",
    "plt.scatter(C_x[1],C_y[1],color = mapcol[2])\n",
    "plt.show()"
   ]
  },
  {
   "cell_type": "code",
   "execution_count": 9,
   "metadata": {},
   "outputs": [
    {
     "name": "stdout",
     "output_type": "stream",
     "text": [
      "[[0.1 0.3]\n",
      " [0.6 0.2]]\n"
     ]
    }
   ],
   "source": [
    "C = np.array(list((C_x,C_y)),dtype=np.float32)\n",
    "print(C)"
   ]
  },
  {
   "cell_type": "code",
   "execution_count": 13,
   "metadata": {},
   "outputs": [
    {
     "data": {
      "image/png": "[encoded data removed]",
      "text/plain": [
       "<Figure size 432x288 with 1 Axes>"
      ]
     },
     "metadata": {
      "needs_background": "light"
     },
     "output_type": "display_data"
    }
   ],
   "source": [
    "#plot the elements with centroid elements \n",
    "\n",
    "plt.scatter(f1,f2,c='#050505')\n",
    "plt.scatter(C_x[0],C_y[0],marker='*',s=200,c='r')\n",
    "plt.scatter(C_x[1],C_y[1],marker=\"*\",s=200,c='b')\n",
    "plt.show()\n"
   ]
  },
  {
   "cell_type": "code",
   "execution_count": 21,
   "metadata": {},
   "outputs": [
    {
     "name": "stdout",
     "output_type": "stream",
     "text": [
      "[1 1 1 1 0 0 0 0]\n"
     ]
    }
   ],
   "source": [
    "#model building \n",
    "\n",
    "from sklearn.cluster import KMeans\n",
    "model = KMeans(n_clusters=2,random_state=0)\n",
    "model.fit(X)\n",
    "labels = model.labels_\n",
    "print(labels)"
   ]
  },
  {
   "cell_type": "code",
   "execution_count": 23,
   "metadata": {},
   "outputs": [
    {
     "name": "stdout",
     "output_type": "stream",
     "text": [
      "Number of population around the cluster 1: 4\n",
      "Number of population around the cluster 2: 4\n"
     ]
    }
   ],
   "source": [
    "count = 0\n",
    "count1 = 0\n",
    "for i in range(len(labels)):\n",
    "    if (labels[i]==1):\n",
    "        count = count +1\n",
    "    else:\n",
    "        count1 = count1 +1\n",
    "print(\"Number of population around the cluster 1:\",count1)\n",
    "print(\"Number of population around the cluster 2:\",count)"
   ]
  },
  {
   "cell_type": "code",
   "execution_count": 27,
   "metadata": {},
   "outputs": [
    {
     "name": "stdout",
     "output_type": "stream",
     "text": [
      "Previous centroid value:\n",
      "M1== [0.1 0.3]\n",
      "M2== [0.6 0.2]\n",
      "New centroid value:\n",
      "M1== [0.2475 0.275 ]\n",
      "M2== [0.1225 0.765 ]\n"
     ]
    }
   ],
   "source": [
    "#finding new centroids\n",
    "new_centroids  = model.cluster_centers_\n",
    "print(\"Previous centroid value:\")\n",
    "print(\"M1==\",centroids[0])\n",
    "print(\"M2==\",centroids[1])\n",
    "\n",
    "print(\"New centroid value:\")\n",
    "print(\"M1==\",new_centroids[0])\n",
    "print(\"M2==\",new_centroids[1])\n",
    "\n"
   ]
  },
  {
   "cell_type": "code",
   "execution_count": null,
   "metadata": {},
   "outputs": [],
   "source": []
  }
 ],
 "metadata": {
  "kernelspec": {
   "display_name": "Python 3",
   "language": "python",
   "name": "python3"
  },
  "language_info": {
   "codemirror_mode": {
    "name": "ipython",
    "version": 3
   },
   "file_extension": ".py",
   "mimetype": "text/x-python",
   "name": "python",
   "nbconvert_exporter": "python",
   "pygments_lexer": "ipython3",
   "version": "3.7.3"
  }
 },
 "nbformat": 4,
 "nbformat_minor": 2
}
